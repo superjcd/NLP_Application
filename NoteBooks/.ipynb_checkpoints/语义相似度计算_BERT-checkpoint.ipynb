{
 "cells": [
  {
   "cell_type": "markdown",
   "metadata": {},
   "source": [
    "# 语义相似度计算"
   ]
  },
  {
   "cell_type": "markdown",
   "metadata": {},
   "source": [
    "应用场景：假设我们的问答资源以键-值的形式存储的， 键对应我们的问题， 值对应我们的答案， 那么我们可以通过计算用户输入的问题与问答库中问题的相似度， 并返回语义相似度最高的问题所对应的答案来实现一个最简单的问答功能， 这个功能的关键点就是语义的相似度计算。"
   ]
  },
  {
   "cell_type": "markdown",
   "metadata": {},
   "source": [
    "**目录**  \n",
    "- [语料准备](#yl) \n",
    "- [使用TF-IDF](#tfidf)  \n",
    "- [使用BERT](#bert)  \n",
    "- [精确度对比](#compare)\n",
    "- [速度评估](#sd)"
   ]
  },
  {
   "cell_type": "markdown",
   "metadata": {},
   "source": [
    "<a id='yl'></a>"
   ]
  },
  {
   "cell_type": "markdown",
   "metadata": {},
   "source": [
    "## 语料准备"
   ]
  },
  {
   "cell_type": "code",
   "execution_count": 42,
   "metadata": {},
   "outputs": [],
   "source": [
    "file_loc = '../data/test_sentence/similar_sentence.txt'"
   ]
  },
  {
   "cell_type": "code",
   "execution_count": 43,
   "metadata": {},
   "outputs": [],
   "source": [
    "sentences = []\n",
    "with open(file_loc, 'r') as f:\n",
    "    doc = f.read()"
   ]
  },
  {
   "cell_type": "markdown",
   "metadata": {},
   "source": [
    "原始语料按照三个话题(住地、电话、兴趣)被区分开来，同时增加了两个干扰项将几个话题的主旨混合在了一起"
   ]
  },
  {
   "cell_type": "code",
   "execution_count": 44,
   "metadata": {},
   "outputs": [
    {
     "name": "stdout",
     "output_type": "stream",
     "text": [
      "# 住址\n",
      "你家住在哪里\n",
      "你 家 住在哪里\n",
      "你家， 住在哪里\n",
      "你在哪里住\n",
      "你住在什么地方\n",
      "你在什么地方住\n",
      "\n",
      "# 电话\n",
      "你的电话是多少\n",
      "你的手机号是多少\n",
      "\n",
      "# 兴趣\n",
      "你有哪些爱好\n",
      "你的爱好有哪些\n",
      "你的兴趣有哪些\n",
      "你有什么兴趣\n",
      "\n",
      "# 混乱项\n",
      "你家的电话是多少\n",
      "你家人有什么兴趣\n",
      "\n"
     ]
    }
   ],
   "source": [
    "print(doc)"
   ]
  },
  {
   "cell_type": "code",
   "execution_count": 45,
   "metadata": {},
   "outputs": [],
   "source": [
    "for line in doc.splitlines():\n",
    "    if not line.startswith('#') and line !='':\n",
    "        sentences.append(line)"
   ]
  },
  {
   "cell_type": "markdown",
   "metadata": {},
   "source": [
    "句子编号和语句如下："
   ]
  },
  {
   "cell_type": "code",
   "execution_count": 59,
   "metadata": {},
   "outputs": [
    {
     "name": "stdout",
     "output_type": "stream",
     "text": [
      "0 你家住在哪里\n",
      "1 你 家 住在哪里\n",
      "2 你家， 住在哪里\n",
      "3 你在哪里住\n",
      "4 你住在什么地方\n",
      "5 你在什么地方住\n",
      "6 你的电话是多少\n",
      "7 你的手机号是多少\n",
      "8 你有哪些爱好\n",
      "9 你的爱好有哪些\n",
      "10 你的兴趣有哪些\n",
      "11 你有什么兴趣\n",
      "12 你家的电话是多少\n",
      "13 你家人有什么兴趣\n"
     ]
    }
   ],
   "source": [
    "for i, sentence in enumerate(sentences):\n",
    "    print(i, sentence)"
   ]
  },
  {
   "cell_type": "markdown",
   "metadata": {},
   "source": [
    "<a id='tfid'></a>"
   ]
  },
  {
   "cell_type": "markdown",
   "metadata": {},
   "source": [
    "## 使用TF-IDF"
   ]
  },
  {
   "cell_type": "markdown",
   "metadata": {},
   "source": [
    "这里我们使用[TF-IDF](https://baike.baidu.com/item/tf-idf/8816134?fr=aladdin)方法作为比较的基准。"
   ]
  },
  {
   "cell_type": "markdown",
   "metadata": {},
   "source": [
    "首先先定义句子的向量转化函数："
   ]
  },
  {
   "cell_type": "code",
   "execution_count": 109,
   "metadata": {},
   "outputs": [],
   "source": [
    "from sklearn.feature_extraction.text import TfidfVectorizer\n",
    "import numpy as np\n",
    "from scipy.linalg import norm\n",
    "import jieba\n",
    "\n",
    "# 使用结巴分词对词语进行分词\n",
    "def add_space(s):\n",
    "    return ' '.join(jieba.cut(s))\n",
    "    \n",
    "\n",
    "def tfidf_vectors(*args):\n",
    "    # 将字中间加入空格\n",
    "    corpus = []\n",
    "    for s in args:\n",
    "        corpus.append(add_space(s))  \n",
    "    # tf-idf 矩阵\n",
    "    cv = TfidfVectorizer(tokenizer=lambda s: s.split())\n",
    "    vectors = cv.fit_transform(corpus).toarray()\n",
    "    return vectors\n",
    "\n",
    "\n"
   ]
  },
  {
   "cell_type": "markdown",
   "metadata": {},
   "source": [
    "其次定义一个计算[余弦距离](https://baike.baidu.com/item/余弦相似度/17509249?fr=aladdin)的函数："
   ]
  },
  {
   "cell_type": "code",
   "execution_count": 111,
   "metadata": {},
   "outputs": [],
   "source": [
    "def compute_cos(A, B):\n",
    "    return np.dot(A, B) / (norm(A) * norm(B))"
   ]
  },
  {
   "cell_type": "markdown",
   "metadata": {},
   "source": [
    "最后定义一个基于输入距离返回余弦距离矩阵的函数："
   ]
  },
  {
   "cell_type": "code",
   "execution_count": 114,
   "metadata": {},
   "outputs": [],
   "source": [
    "def cosdis_matrix(array):\n",
    "    size = array.shape[0]\n",
    "    out = np.empty([size, size])\n",
    "    for i in range(size):\n",
    "        for j in range(size):\n",
    "            out[i,j] = compute_cos(array[i,], array[j,])\n",
    "    return out"
   ]
  },
  {
   "cell_type": "markdown",
   "metadata": {},
   "source": [
    "将所有语句转化成tf_idf向量"
   ]
  },
  {
   "cell_type": "code",
   "execution_count": 126,
   "metadata": {},
   "outputs": [],
   "source": [
    "X_tfidf = tfidf_vectors(*sentences)"
   ]
  },
  {
   "cell_type": "markdown",
   "metadata": {},
   "source": [
    "来看一下这个矩阵的大小"
   ]
  },
  {
   "cell_type": "code",
   "execution_count": 139,
   "metadata": {},
   "outputs": [
    {
     "data": {
      "text/plain": [
       "(14, 20)"
      ]
     },
     "execution_count": 139,
     "metadata": {},
     "output_type": "execute_result"
    }
   ],
   "source": [
    "X_tfidf.shape"
   ]
  },
  {
   "cell_type": "markdown",
   "metadata": {},
   "source": [
    "是一个14 * 20的矩阵，需要主要的是20是分词后不同词语的数量， 会随着语料的增加而增加"
   ]
  },
  {
   "cell_type": "markdown",
   "metadata": {},
   "source": [
    "计算余弦距离矩阵并可视化："
   ]
  },
  {
   "cell_type": "code",
   "execution_count": 134,
   "metadata": {},
   "outputs": [],
   "source": [
    "distance_matrix_tfidf = cosdis_matrix(res)"
   ]
  },
  {
   "cell_type": "code",
   "execution_count": 135,
   "metadata": {},
   "outputs": [
    {
     "data": {
      "text/plain": [
       "<matplotlib.axes._subplots.AxesSubplot at 0x1a1b22ea20>"
      ]
     },
     "execution_count": 135,
     "metadata": {},
     "output_type": "execute_result"
    },
    {
     "data": {
      "image/png": "[encoded data removed]",
      "text/plain": [
       "<matplotlib.figure.Figure at 0x1a1b1e7ac8>"
      ]
     },
     "metadata": {},
     "output_type": "display_data"
    }
   ],
   "source": [
    "import seaborn\n",
    "%matplotlib inline\n",
    "\n",
    "seaborn.heatmap(distance_matrix_tfidf)"
   ]
  },
  {
   "cell_type": "markdown",
   "metadata": {},
   "source": [
    "<a id='bert'></a>"
   ]
  },
  {
   "cell_type": "markdown",
   "metadata": {},
   "source": [
    "## 使用BERT"
   ]
  },
  {
   "cell_type": "markdown",
   "metadata": {},
   "source": [
    "这里我们使用基于[Bert](https://github.com/google-research/bert#pre-trained-models)训练好的中文词向量， 将中文语句向量化"
   ]
  },
  {
   "cell_type": "code",
   "execution_count": 47,
   "metadata": {},
   "outputs": [],
   "source": [
    "from bert_serving.client import BertClient"
   ]
  },
  {
   "cell_type": "code",
   "execution_count": 48,
   "metadata": {},
   "outputs": [],
   "source": [
    "bc = BertClient()"
   ]
  },
  {
   "cell_type": "markdown",
   "metadata": {},
   "source": [
    "Bert词向量转换"
   ]
  },
  {
   "cell_type": "code",
   "execution_count": 49,
   "metadata": {},
   "outputs": [],
   "source": [
    "X = bc.encode(sentences)"
   ]
  },
  {
   "cell_type": "markdown",
   "metadata": {},
   "source": [
    "首先来看一下这个矩阵对大小"
   ]
  },
  {
   "cell_type": "code",
   "execution_count": 154,
   "metadata": {},
   "outputs": [
    {
     "data": {
      "text/plain": [
       "(14, 768)"
      ]
     },
     "execution_count": 154,
     "metadata": {},
     "output_type": "execute_result"
    }
   ],
   "source": [
    "X.shape"
   ]
  },
  {
   "cell_type": "markdown",
   "metadata": {},
   "source": [
    "计算余弦距离矩阵及可视化"
   ]
  },
  {
   "cell_type": "code",
   "execution_count": 136,
   "metadata": {},
   "outputs": [],
   "source": [
    "distance_matrix_bert =  cosdis_matrix(X)"
   ]
  },
  {
   "cell_type": "code",
   "execution_count": 137,
   "metadata": {},
   "outputs": [
    {
     "data": {
      "text/plain": [
       "<matplotlib.axes._subplots.AxesSubplot at 0x1a202cb438>"
      ]
     },
     "execution_count": 137,
     "metadata": {},
     "output_type": "execute_result"
    },
    {
     "data": {
      "image/png": "[encoded data removed]",
      "text/plain": [
       "<matplotlib.figure.Figure at 0x1a184a0ba8>"
      ]
     },
     "metadata": {},
     "output_type": "display_data"
    }
   ],
   "source": [
    "seaborn.heatmap(distance_matrix_bert)"
   ]
  },
  {
   "cell_type": "markdown",
   "metadata": {},
   "source": [
    "<a id='compare'></a>"
   ]
  },
  {
   "cell_type": "markdown",
   "metadata": {},
   "source": [
    "## 精确度对比"
   ]
  },
  {
   "cell_type": "markdown",
   "metadata": {},
   "source": [
    "我们以第一个句子‘你家住在哪里’为例， 来看看和该语句相关程度的排序"
   ]
  },
  {
   "cell_type": "markdown",
   "metadata": {},
   "source": [
    "- TF-IDF"
   ]
  },
  {
   "cell_type": "code",
   "execution_count": 141,
   "metadata": {},
   "outputs": [],
   "source": [
    "import pandas as pd "
   ]
  },
  {
   "cell_type": "code",
   "execution_count": 142,
   "metadata": {},
   "outputs": [],
   "source": [
    "rank_0_tfidf = pd.DataFrame(distance_matrix_tfidf).sort_values(0, ascending=False)[0]"
   ]
  },
  {
   "cell_type": "code",
   "execution_count": 143,
   "metadata": {},
   "outputs": [
    {
     "data": {
      "text/plain": [
       "0     1.000000\n",
       "3     0.594573\n",
       "1     0.453755\n",
       "2     0.348480\n",
       "4     0.245032\n",
       "5     0.245032\n",
       "11    0.088776\n",
       "8     0.082668\n",
       "10    0.077957\n",
       "9     0.075375\n",
       "6     0.073723\n",
       "7     0.070286\n",
       "12    0.000000\n",
       "13    0.000000\n",
       "Name: 0, dtype: float64"
      ]
     },
     "execution_count": 143,
     "metadata": {},
     "output_type": "execute_result"
    }
   ],
   "source": [
    "rank_0_tfidf"
   ]
  },
  {
   "cell_type": "markdown",
   "metadata": {},
   "source": [
    "- BERT"
   ]
  },
  {
   "cell_type": "code",
   "execution_count": 144,
   "metadata": {},
   "outputs": [],
   "source": [
    "rank_0_bert = pd.DataFrame(distance_matrix_bert).sort_values(0, ascending=False)[0]"
   ]
  },
  {
   "cell_type": "code",
   "execution_count": 145,
   "metadata": {},
   "outputs": [
    {
     "data": {
      "text/plain": [
       "0     1.000000\n",
       "1     1.000000\n",
       "2     0.974768\n",
       "4     0.960534\n",
       "3     0.953787\n",
       "5     0.940847\n",
       "13    0.903101\n",
       "12    0.893915\n",
       "9     0.884722\n",
       "10    0.879625\n",
       "8     0.878649\n",
       "6     0.876900\n",
       "7     0.856033\n",
       "11    0.852757\n",
       "Name: 0, dtype: float64"
      ]
     },
     "execution_count": 145,
     "metadata": {},
     "output_type": "execute_result"
    }
   ],
   "source": [
    "rank_0_bert"
   ]
  },
  {
   "cell_type": "markdown",
   "metadata": {},
   "source": [
    "可以看到，不论是tf-idf还是bert， 和‘你家住在哪里’相同话题的语句的排名都比较靠前， 但是值得注意的是编号为1的语句和目标语句除了多了空格以外都是一样的， 然而在tf-idf的计算中， 该语句的排名到了编号为3的语句之后， 而使用bert，这两个语句的编码是完全相同的。原因是在做tf_idf时，分词工具jieba在给语句分词时会受到空格影响(而BERT则不会):"
   ]
  },
  {
   "cell_type": "code",
   "execution_count": 147,
   "metadata": {},
   "outputs": [
    {
     "data": {
      "text/plain": [
       "['你', '家住', '在', '哪里']"
      ]
     },
     "execution_count": 147,
     "metadata": {},
     "output_type": "execute_result"
    }
   ],
   "source": [
    "list(jieba.cut(sentences[0]))"
   ]
  },
  {
   "cell_type": "code",
   "execution_count": 148,
   "metadata": {},
   "outputs": [
    {
     "data": {
      "text/plain": [
       "['你', ' ', '家', ' ', '住', '在', '哪里']"
      ]
     },
     "execution_count": 148,
     "metadata": {},
     "output_type": "execute_result"
    }
   ],
   "source": [
    "list(jieba.cut(sentences[1]))"
   ]
  },
  {
   "cell_type": "markdown",
   "metadata": {},
   "source": [
    "我们再来看看和‘你的电话是多少’的相关程度排名："
   ]
  },
  {
   "cell_type": "markdown",
   "metadata": {},
   "source": [
    "- TF-IDF"
   ]
  },
  {
   "cell_type": "code",
   "execution_count": 149,
   "metadata": {},
   "outputs": [
    {
     "data": {
      "text/plain": [
       "6     1.000000\n",
       "12    0.863313\n",
       "7     0.668133\n",
       "10    0.240133\n",
       "9     0.232178\n",
       "3     0.088078\n",
       "11    0.079159\n",
       "0     0.073723\n",
       "8     0.073713\n",
       "4     0.071042\n",
       "5     0.071042\n",
       "1     0.067217\n",
       "2     0.000000\n",
       "13    0.000000\n",
       "Name: 6, dtype: float64"
      ]
     },
     "execution_count": 149,
     "metadata": {},
     "output_type": "execute_result"
    }
   ],
   "source": [
    "rank_6_tfidf = pd.DataFrame(distance_matrix_tfidf).sort_values(6, ascending=False)[6]\n",
    "rank_6_tfidf"
   ]
  },
  {
   "cell_type": "markdown",
   "metadata": {},
   "source": [
    "干扰项‘你家的电话是多少’的排名跑到了‘你的手机号是多少’前面， 这里就能和好地体现了TF-IDF的局限性：在tf-idf的算法下， 电话和手机号是完全不一样的变量"
   ]
  },
  {
   "cell_type": "markdown",
   "metadata": {},
   "source": [
    "- BERT"
   ]
  },
  {
   "cell_type": "code",
   "execution_count": 150,
   "metadata": {},
   "outputs": [
    {
     "data": {
      "text/plain": [
       "6     1.000000\n",
       "12    0.970241\n",
       "7     0.964503\n",
       "5     0.884659\n",
       "3     0.877039\n",
       "0     0.876900\n",
       "1     0.876900\n",
       "4     0.873550\n",
       "2     0.872083\n",
       "13    0.835826\n",
       "9     0.833717\n",
       "10    0.827246\n",
       "8     0.810966\n",
       "11    0.798672\n",
       "Name: 6, dtype: float64"
      ]
     },
     "execution_count": 150,
     "metadata": {},
     "output_type": "execute_result"
    }
   ],
   "source": [
    "rank_6_bert = pd.DataFrame(distance_matrix_bert).sort_values(6, ascending=False)[6]\n",
    "rank_6_bert"
   ]
  },
  {
   "cell_type": "markdown",
   "metadata": {},
   "source": [
    "不过即使使用Bert，干扰项‘你家的电话是多少’也排在了‘你的手机号是多少’之前， 很明显这个排序是有问题的， 但是两者的距离差距非常微弱。"
   ]
  },
  {
   "cell_type": "markdown",
   "metadata": {},
   "source": [
    "最后我们来看一下最后一个话题--兴趣："
   ]
  },
  {
   "cell_type": "code",
   "execution_count": 151,
   "metadata": {},
   "outputs": [
    {
     "data": {
      "text/plain": [
       "8     1.000000\n",
       "9     0.911776\n",
       "10    0.588256\n",
       "11    0.350067\n",
       "3     0.098764\n",
       "0     0.082668\n",
       "4     0.079661\n",
       "5     0.079661\n",
       "1     0.075373\n",
       "6     0.073713\n",
       "7     0.070276\n",
       "2     0.000000\n",
       "12    0.000000\n",
       "13    0.000000\n",
       "Name: 8, dtype: float64"
      ]
     },
     "execution_count": 151,
     "metadata": {},
     "output_type": "execute_result"
    }
   ],
   "source": [
    "rank_8_tfidf = pd.DataFrame(distance_matrix_tfidf).sort_values(8, ascending=False)[8]\n",
    "rank_8_tfidf"
   ]
  },
  {
   "cell_type": "code",
   "execution_count": 152,
   "metadata": {},
   "outputs": [
    {
     "data": {
      "text/plain": [
       "8     1.000000\n",
       "9     0.970538\n",
       "10    0.945500\n",
       "11    0.897483\n",
       "13    0.897045\n",
       "0     0.878649\n",
       "1     0.878649\n",
       "4     0.878456\n",
       "5     0.864492\n",
       "3     0.860261\n",
       "2     0.843138\n",
       "7     0.812010\n",
       "6     0.810966\n",
       "12    0.808828\n",
       "Name: 8, dtype: float64"
      ]
     },
     "execution_count": 152,
     "metadata": {},
     "output_type": "execute_result"
    }
   ],
   "source": [
    "rank_8_bert = pd.DataFrame(distance_matrix_bert).sort_values(8, ascending=False)[8]\n",
    "rank_8_bert"
   ]
  },
  {
   "cell_type": "markdown",
   "metadata": {},
   "source": [
    "可以看到基于tf-idf，虽然也基本将同类话题的排在了前面， 但是注意一下编号第8句和第10句的相似度， 由tf-idf计算的差异还是比较大的（虽然‘爱好’和‘兴趣’基本同义）。"
   ]
  },
  {
   "cell_type": "markdown",
   "metadata": {},
   "source": [
    "<a id='sd'></a>"
   ]
  },
  {
   "cell_type": "markdown",
   "metadata": {},
   "source": [
    "## 速度评估"
   ]
  },
  {
   "cell_type": "markdown",
   "metadata": {},
   "source": [
    "通过BERT计算句子语义相似度的时间主要来源于两个部分：  \n",
    "1 将用户对语句进转化成BERT向量。  \n",
    "2 距离计算。"
   ]
  },
  {
   "cell_type": "markdown",
   "metadata": {},
   "source": [
    "#### 语句向量化"
   ]
  },
  {
   "cell_type": "code",
   "execution_count": 69,
   "metadata": {},
   "outputs": [
    {
     "name": "stdout",
     "output_type": "stream",
     "text": [
      "181 ms ± 12.3 ms per loop (mean ± std. dev. of 7 runs, 1 loop each)\n"
     ]
    }
   ],
   "source": [
    "%timeit bc.encode(['请告诉我如何补办驾驶证？'])"
   ]
  },
  {
   "cell_type": "markdown",
   "metadata": {},
   "source": [
    "可以看到， 将单个句子转化成向量的耗时在0.18秒左右。"
   ]
  },
  {
   "cell_type": "markdown",
   "metadata": {},
   "source": [
    "#### 距离计算"
   ]
  },
  {
   "cell_type": "markdown",
   "metadata": {},
   "source": [
    "假设我们有1400个问题"
   ]
  },
  {
   "cell_type": "code",
   "execution_count": 96,
   "metadata": {},
   "outputs": [],
   "source": [
    "# 将原有的数据量*100来模拟1400语句的数据量\n",
    "newsentences = sentences * 100"
   ]
  },
  {
   "cell_type": "code",
   "execution_count": 76,
   "metadata": {},
   "outputs": [],
   "source": [
    "X_corpus = bc.encode(newsentences)"
   ]
  },
  {
   "cell_type": "code",
   "execution_count": 82,
   "metadata": {},
   "outputs": [
    {
     "data": {
      "text/plain": [
       "array([[ 0.04069913,  0.12600972,  0.1884322 , ..., -0.03994949,\n",
       "         0.1657605 , -0.48563564],\n",
       "       [ 0.04069913,  0.12600972,  0.1884322 , ..., -0.03994949,\n",
       "         0.1657605 , -0.48563564],\n",
       "       [ 0.37125486,  0.12837994,  0.04483498, ..., -0.21823493,\n",
       "         0.2900892 , -0.4559419 ],\n",
       "       ...,\n",
       "       [ 0.03660728,  0.36415172,  0.65053755, ..., -0.12899123,\n",
       "         0.8770525 , -0.6152378 ],\n",
       "       [ 1.0576172 , -0.3136497 ,  0.23099992, ...,  0.04968782,\n",
       "         0.25428954, -0.35852996],\n",
       "       [ 0.29277334,  0.29901034,  0.31909028, ..., -0.17496602,\n",
       "         0.9033352 , -0.3274115 ]], dtype=float32)"
      ]
     },
     "execution_count": 82,
     "metadata": {},
     "output_type": "execute_result"
    }
   ],
   "source": [
    "X_corpus"
   ]
  },
  {
   "cell_type": "code",
   "execution_count": 153,
   "metadata": {},
   "outputs": [
    {
     "name": "stdout",
     "output_type": "stream",
     "text": [
      "1min 1s ± 5.24 s per loop (mean ± std. dev. of 7 runs, 1 loop each)\n"
     ]
    }
   ],
   "source": [
    "%timeit cosdis_matrix(X_corpus)"
   ]
  },
  {
   "cell_type": "markdown",
   "metadata": {},
   "source": [
    "如果使用我们自己定义定余弦距离， 需要耗时1分钟左右才能完成对Bert编码的1400个语句进行距离计算。所以我们可以用Cython改写我们的余弦距离函数（主要是需要优化两个for loop），或者使用相关系数计算来做替代（效果基本相同）， 耗时如下："
   ]
  },
  {
   "cell_type": "code",
   "execution_count": 155,
   "metadata": {},
   "outputs": [
    {
     "name": "stdout",
     "output_type": "stream",
     "text": [
      "2.42 s ± 64.7 ms per loop (mean ± std. dev. of 7 runs, 1 loop each)\n"
     ]
    }
   ],
   "source": [
    "%timeit pd.DataFrame(X_corpus.T).corr()"
   ]
  },
  {
   "cell_type": "markdown",
   "metadata": {},
   "source": [
    "这样的话时间大概在2.4秒左右"
   ]
  },
  {
   "cell_type": "code",
   "execution_count": null,
   "metadata": {},
   "outputs": [],
   "source": []
  }
 ],
 "metadata": {
  "kernelspec": {
   "display_name": "Python 3",
   "language": "python",
   "name": "python3"
  },
  "language_info": {
   "codemirror_mode": {
    "name": "ipython",
    "version": 3
   },
   "file_extension": ".py",
   "mimetype": "text/x-python",
   "name": "python",
   "nbconvert_exporter": "python",
   "pygments_lexer": "ipython3",
   "version": "3.6.4"
  }
 },
 "nbformat": 4,
 "nbformat_minor": 2
}
